{
 "cells": [
  {
   "cell_type": "code",
   "execution_count": 1,
   "id": "48d23e33",
   "metadata": {
    "_cell_guid": "b1076dfc-b9ad-4769-8c92-a6c4dae69d19",
    "_uuid": "8f2839f25d086af736a60e9eeb907d3b93b6e0e5",
    "execution": {
     "iopub.execute_input": "2022-12-02T18:22:53.937388Z",
     "iopub.status.busy": "2022-12-02T18:22:53.936378Z",
     "iopub.status.idle": "2022-12-02T18:22:53.947738Z",
     "shell.execute_reply": "2022-12-02T18:22:53.946331Z"
    },
    "papermill": {
     "duration": 0.019708,
     "end_time": "2022-12-02T18:22:53.951204",
     "exception": false,
     "start_time": "2022-12-02T18:22:53.931496",
     "status": "completed"
    },
    "tags": []
   },
   "outputs": [],
   "source": [
    "# This Python 3 environment comes with many helpful analytics libraries installed\n",
    "# It is defined by the kaggle/python Docker image: https://github.com/kaggle/docker-python\n",
    "# For example, here's several helpful packages to load\n",
    "\n",
    "import numpy as np # linear algebra\n",
    "import pandas as pd # data processing, CSV file I/O (e.g. pd.read_csv)\n",
    "\n",
    "# Input data files are available in the read-only \"../input/\" directory\n",
    "# For example, running this (by clicking run or pressing Shift+Enter) will list all files under the input directory\n",
    "\n",
    "import os\n",
    "for dirname, _, filenames in os.walk('/kaggle/input'):\n",
    "    for filename in filenames:\n",
    "        print(os.path.join(dirname, filename))\n",
    "\n",
    "# You can write up to 20GB to the current directory (/kaggle/working/) that gets preserved as output when you create a version using \"Save & Run All\" \n",
    "# You can also write temporary files to /kaggle/temp/, but they won't be saved outside of the current session"
   ]
  },
  {
   "cell_type": "code",
   "execution_count": 2,
   "id": "6229f7e5",
   "metadata": {
    "execution": {
     "iopub.execute_input": "2022-12-02T18:22:53.957781Z",
     "iopub.status.busy": "2022-12-02T18:22:53.957301Z",
     "iopub.status.idle": "2022-12-02T18:22:55.126726Z",
     "shell.execute_reply": "2022-12-02T18:22:55.125713Z"
    },
    "papermill": {
     "duration": 1.175694,
     "end_time": "2022-12-02T18:22:55.129513",
     "exception": false,
     "start_time": "2022-12-02T18:22:53.953819",
     "status": "completed"
    },
    "tags": []
   },
   "outputs": [],
   "source": [
    "# import modules\n",
    "import random\n",
    "import matplotlib.pyplot as plt\n",
    "import seaborn as sns"
   ]
  },
  {
   "cell_type": "code",
   "execution_count": 3,
   "id": "6e29259f",
   "metadata": {
    "execution": {
     "iopub.execute_input": "2022-12-02T18:22:55.135530Z",
     "iopub.status.busy": "2022-12-02T18:22:55.135067Z",
     "iopub.status.idle": "2022-12-02T18:22:55.621680Z",
     "shell.execute_reply": "2022-12-02T18:22:55.620411Z"
    },
    "papermill": {
     "duration": 0.492494,
     "end_time": "2022-12-02T18:22:55.624165",
     "exception": false,
     "start_time": "2022-12-02T18:22:55.131671",
     "status": "completed"
    },
    "tags": []
   },
   "outputs": [],
   "source": [
    "# simulation\n",
    "\n",
    "random.seed(69) # seed\n",
    "games = 10000\n",
    "\n",
    "net = []\n",
    "\n",
    "for game in range(0,games):\n",
    "    capital = 1000\n",
    "    money = 1000\n",
    "    bet = 100\n",
    "    rounds = 10\n",
    "    \n",
    "    for i in range(0,rounds):\n",
    "        die_1 = random.randint(1,6)\n",
    "        die_2 = random.randint(1,6)\n",
    "        die_3 = random.randint(1,6)\n",
    "        \n",
    "        a = [die_1, die_2, die_3]\n",
    "        count = 0\n",
    "        \n",
    "        for j in a:\n",
    "            if j == 1:\n",
    "                count += 1\n",
    "        \n",
    "        if count == 0:\n",
    "            money -= bet\n",
    "        else:\n",
    "            money += bet*count\n",
    "    pnl = money - capital\n",
    "    \n",
    "    net.append(pnl)\n",
    "    \n",
    "net_np = np.array(net)"
   ]
  },
  {
   "cell_type": "code",
   "execution_count": 4,
   "id": "d5f772f4",
   "metadata": {
    "execution": {
     "iopub.execute_input": "2022-12-02T18:22:55.630599Z",
     "iopub.status.busy": "2022-12-02T18:22:55.629544Z",
     "iopub.status.idle": "2022-12-02T18:22:55.936030Z",
     "shell.execute_reply": "2022-12-02T18:22:55.933904Z"
    },
    "papermill": {
     "duration": 0.312152,
     "end_time": "2022-12-02T18:22:55.938529",
     "exception": false,
     "start_time": "2022-12-02T18:22:55.626377",
     "status": "completed"
    },
    "tags": []
   },
   "outputs": [
    {
     "data": {
      "image/png": "[encoded data removed]",
      "text/plain": [
       "<Figure size 432x288 with 1 Axes>"
      ]
     },
     "metadata": {
      "needs_background": "light"
     },
     "output_type": "display_data"
    },
    {
     "name": "stdout",
     "output_type": "stream",
     "text": [
      "Mean Loss: -82.32\n",
      "Median Loss: -100.0\n"
     ]
    }
   ],
   "source": [
    "# data vizualization\n",
    "\n",
    "ax = sns.countplot(x=net_np)\n",
    "ax.set_xticklabels(ax.get_xticklabels(), rotation=90)\n",
    "ax.set_title(\"Color Game Profit and Loss (PnL) 10,000 Simulations with 10 Rounds Each Game (bet=100pesos)\")\n",
    "plt.show()\n",
    "\n",
    "print(\"Mean Loss: \" + str(np.mean(net_np)))\n",
    "print(\"Median Loss: \" + str(np.median(net_np)))"
   ]
  }
 ],
 "metadata": {
  "kernelspec": {
   "display_name": "Python 3",
   "language": "python",
   "name": "python3"
  },
  "language_info": {
   "codemirror_mode": {
    "name": "ipython",
    "version": 3
   },
   "file_extension": ".py",
   "mimetype": "text/x-python",
   "name": "python",
   "nbconvert_exporter": "python",
   "pygments_lexer": "ipython3",
   "version": "3.7.12"
  },
  "papermill": {
   "default_parameters": {},
   "duration": 12.884721,
   "end_time": "2022-12-02T18:22:56.865624",
   "environment_variables": {},
   "exception": null,
   "input_path": "__notebook__.ipynb",
   "output_path": "__notebook__.ipynb",
   "parameters": {},
   "start_time": "2022-12-02T18:22:43.980903",
   "version": "2.3.4"
  }
 },
 "nbformat": 4,
 "nbformat_minor": 5
}
